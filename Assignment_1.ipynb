{
 "cells": [
  {
   "cell_type": "markdown",
   "id": "e9a001b4",
   "metadata": {},
   "source": [
    "# PYTHON BASIC ASSIGNMENT - 1"
   ]
  },
  {
   "cell_type": "raw",
   "id": "af76aacf",
   "metadata": {},
   "source": [
    "1.*,-,/,+ are expressions and 'hello',-87.8,6 are Values"
   ]
  },
  {
   "cell_type": "raw",
   "id": "705d0976",
   "metadata": {},
   "source": [
    "2.A string is a set of characters which is a value and a variable is a storage box in the memory space which is used to store some value.\n",
    "A variable can store strings,integers,floats.. and a string is character set which is a datatype"
   ]
  },
  {
   "cell_type": "raw",
   "id": "b76ba787",
   "metadata": {},
   "source": [
    "3.There are various datatypes in python.they are:\n",
    "    int: this is a basic datatype in which the values are integers like 0,1,2,3,-34,-67..\n",
    "    float: the values are float such as 1.2,2.35434,5.3728,..\n",
    "    str: the values are set of characters such as 'siddhardha','pandiri',...\n",
    "    complex:the values are in complex numbers such as 3+4j,12+2387j\n",
    "    bool:the values are boolean in nature such as True,False"
   ]
  },
  {
   "cell_type": "raw",
   "id": "b676f2ef",
   "metadata": {},
   "source": [
    "4.An expression is made up of set of operands/values and operators \n",
    "operand:it is a variable which stores values\n",
    "operators: these are operators which is used to perform some kind of operations like addition,subtraction,multiplication..\n",
    "    Ex: a,b,c=5,6,7\n",
    "        result=a+27/143*12-b+c\n",
    "An expression is used to perform some kind of operations to achieve desired result"
   ]
  },
  {
   "cell_type": "raw",
   "id": "07d88490",
   "metadata": {},
   "source": [
    "5.A statement is a variable declaration or only 1 operation like spam=10 where as an expression is a set of operations which can be more than 1"
   ]
  },
  {
   "cell_type": "raw",
   "id": "bde6bfe6",
   "metadata": {},
   "source": [
    "6.bacon still contains 22"
   ]
  },
  {
   "cell_type": "raw",
   "id": "f7f005b6",
   "metadata": {},
   "source": [
    "7.concatenation='spamspamspam'\n",
    "mutlipliciotn:'spamspamspam'"
   ]
  },
  {
   "cell_type": "raw",
   "id": "e432ff48",
   "metadata": {},
   "source": [
    "8.a variable name must not start with an integer and it can contain character,number,_ and special characters are not allowed\n",
    "hence eggs is valid and 100 is not valid . if its eggs100 it must be valid"
   ]
  },
  {
   "cell_type": "raw",
   "id": "a6101001",
   "metadata": {},
   "source": [
    "9.Three functions used are int,float,str \n"
   ]
  },
  {
   "cell_type": "raw",
   "id": "0ea52077",
   "metadata": {},
   "source": [
    "10. the python interpreter treats it as a string concatenation and not addition.\n",
    "string concatenation expects two strings to concatenate.but it has seen a number hence raises an error.\n",
    "to make it right convert this int to string \n",
    "'I have eaten'+ '99'+ 'burritos' or\n",
    "'I have eaten'+ str(99) + 'burritos'"
   ]
  }
 ],
 "metadata": {
  "kernelspec": {
   "display_name": "Python 3",
   "language": "python",
   "name": "python3"
  },
  "language_info": {
   "codemirror_mode": {
    "name": "ipython",
    "version": 3
   },
   "file_extension": ".py",
   "mimetype": "text/x-python",
   "name": "python",
   "nbconvert_exporter": "python",
   "pygments_lexer": "ipython3",
   "version": "3.8.8"
  }
 },
 "nbformat": 4,
 "nbformat_minor": 5
}
